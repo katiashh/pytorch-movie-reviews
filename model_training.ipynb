{
  "cells": [
    {
      "cell_type": "code",
      "execution_count": 1,
      "metadata": {
        "colab": {
          "base_uri": "https://localhost:8080/"
        },
        "id": "rJSoVUieeGvN",
        "outputId": "ef0318f0-9a5d-4edd-8a0f-1a63e17ca5cc"
      },
      "outputs": [
        {
          "output_type": "stream",
          "name": "stdout",
          "text": [
            "Drive already mounted at /content/drive; to attempt to forcibly remount, call drive.mount(\"/content/drive\", force_remount=True).\n"
          ]
        }
      ],
      "source": [
        "from google.colab import drive\n",
        "drive.mount('/content/drive')"
      ]
    },
    {
      "cell_type": "markdown",
      "metadata": {
        "id": "32O1xSZohOj0"
      },
      "source": [
        "Data Preprocessing"
      ]
    },
    {
      "cell_type": "code",
      "execution_count": 2,
      "metadata": {
        "id": "acADIr4QiTh0"
      },
      "outputs": [],
      "source": [
        "import os\n",
        "from random import shuffle\n",
        "import pandas as pd\n",
        "import re\n",
        "import numpy as np\n",
        "from tqdm import tqdm\n",
        "import ast\n",
        "import torch\n",
        "from torch.utils.data import Dataset\n",
        "import os\n",
        "import numpy as np\n",
        "import torch.nn as nn\n",
        "import torch.nn.functional as F\n",
        "from torch.utils.data import DataLoader\n",
        "from torch.optim import Adam\n",
        "from tqdm import tqdm\n",
        "import matplotlib.pyplot as plt"
      ]
    },
    {
      "cell_type": "markdown",
      "metadata": {
        "id": "VRaJKqPuueyg"
      },
      "source": [
        "Загрузка словаря. Будем использовать 10000 самых популярных слов."
      ]
    },
    {
      "cell_type": "code",
      "execution_count": 3,
      "metadata": {
        "id": "ucQAlN4fjFa3"
      },
      "outputs": [],
      "source": [
        "vocab = {}\n",
        "f = open('/content/drive/MyDrive/nlp/aclImdb/imdb.vocab')\n",
        "ZERO = 0\n",
        "UNDEF = 1\n",
        "for i in range(10000):\n",
        "  d = f.readline()[:-1]\n",
        "  vocab[d] = i + 2"
      ]
    },
    {
      "cell_type": "code",
      "execution_count": 5,
      "metadata": {
        "id": "tQxsjjSowXg1"
      },
      "outputs": [],
      "source": [
        "LEN = 200"
      ]
    },
    {
      "cell_type": "markdown",
      "metadata": {
        "id": "mlDoYU7kujBZ"
      },
      "source": [
        "Из каждого описания удалим знаки препинания и цифры (предварительно добавив пробелы, чтобы обработать случаи, когда пропущены пробелы в исходном тексте). Затем каждое слово заменим на его код из словаря, либо на код UNDEF=1, если такое слово в словаре отсутствует. Вектор, соответствующий каждому тексту сделаем длиной LEN=200, если длина текста больше LEN, то последние слова не добавляются в вектор, если длина текста меньше LEN, то в вектор добавляются заполнители ZERO=0, так чтобы его длина была равна LEN."
      ]
    },
    {
      "cell_type": "code",
      "execution_count": 6,
      "metadata": {
        "id": "jVxniTWysXBF"
      },
      "outputs": [],
      "source": [
        "def preprocess_data(path):\n",
        "  filenames = sorted(os.listdir(path))\n",
        "  for i in range(len(filenames)):\n",
        "    filenames[i] = path + filenames[i]\n",
        "  new_data = []\n",
        "  for filename in tqdm(filenames):\n",
        "    f = open(filename)\n",
        "    data = f.read()\n",
        "    data = re.sub(r'([\\.\\,\\!\\?\\-])', r' \\1 ', data) # добавляем пробелы\n",
        "    data = re.sub(r'([^\\x00-\\x7f])', r'', data) # удяляем не алфавитные символы\n",
        "    data = re.sub(r'([\\,\\.\\!\\?\\-\\\"\\#\\$\\%\\&\\(\\)\\*\\+\\/\\:\\;\\<\\=\\>\\@\\[\\\\\\]\\^\\_\\`\\{\\|\\}\\~1234567890])', '', data) # удаляем знаки препинания и цифры\n",
        "    data = data.split(' ') # разбиваем текст на слова\n",
        "    vec = []\n",
        "    counter = 0\n",
        "    for word in data: # для каждого слова\n",
        "      if counter == LEN: # лимит на кол-во элементов в векторе\n",
        "       break\n",
        "      if len(word) < 2:\n",
        "        continue\n",
        "      if (word[0] == \"'\"): # дополнительно убираем одинарные кавычки по краям (ранее они не удалились, чтобы оставить их в артиклях)\n",
        "        word = word[1:]\n",
        "      if len(word) < 2:\n",
        "        continue\n",
        "      if (word[-1] == \"'\"):\n",
        "        word = word[:-1]\n",
        "      if len(word) < 2:\n",
        "        continue\n",
        "      word = word.lower() # нижний регистр\n",
        "      if word in vocab:\n",
        "        vec.append(vocab[word]) # добавляем в вектор код слова\n",
        "      else:\n",
        "        vec.append(UNDEF) # добавляем в вектор код UNDEF\n",
        "      counter += 1\n",
        "    dop = LEN - len(vec)\n",
        "    for i in range(dop): # заполняем вектор нулями до длины 200 (если длина меньше)\n",
        "      vec.append(ZERO)\n",
        "    label = 0\n",
        "    if 'pos' in filename: # определяем ответ\n",
        "      label = 1\n",
        "    new_data.append([vec, label])\n",
        "  return new_data"
      ]
    },
    {
      "cell_type": "code",
      "execution_count": 7,
      "metadata": {
        "id": "s9lLW-fBjJuT"
      },
      "outputs": [],
      "source": [
        "path_pos_train = '/content/drive/MyDrive/nlp/aclImdb/train/pos/'\n",
        "path_neg_train = '/content/drive/MyDrive/nlp/aclImdb/train/neg/'\n",
        "path_pos_test = '/content/drive/MyDrive/nlp/aclImdb/test/pos/'\n",
        "path_neg_test = '/content/drive/MyDrive/nlp/aclImdb/test/neg/'"
      ]
    },
    {
      "cell_type": "markdown",
      "metadata": {
        "id": "Y4HwZoz3vocS"
      },
      "source": [
        "Обработаем все данные и сохраним"
      ]
    },
    {
      "cell_type": "code",
      "source": [
        "new_data = preprocess_data(path_pos_train)\n",
        "df = pd.DataFrame(new_data, columns=['feature', 'label'])\n",
        "print(len(df))\n",
        "df.to_csv('/content/drive/MyDrive/nlp/preprocessed/pos_train.csv', index=False)"
      ],
      "metadata": {
        "colab": {
          "base_uri": "https://localhost:8080/"
        },
        "id": "DcsyOGaBZr2i",
        "outputId": "13b4cbe5-4d42-4785-e5e7-79562377e343"
      },
      "execution_count": 8,
      "outputs": [
        {
          "output_type": "stream",
          "name": "stderr",
          "text": [
            "100%|██████████| 12500/12500 [06:49<00:00, 30.54it/s] \n"
          ]
        },
        {
          "output_type": "stream",
          "name": "stdout",
          "text": [
            "12500\n"
          ]
        }
      ]
    },
    {
      "cell_type": "code",
      "source": [
        "new_data = preprocess_data(path_neg_train)\n",
        "df = pd.DataFrame(new_data, columns=['feature', 'label'])\n",
        "print(len(df))\n",
        "df.to_csv('/content/drive/MyDrive/nlp/preprocessed/neg_train.csv', index=False)"
      ],
      "metadata": {
        "colab": {
          "base_uri": "https://localhost:8080/"
        },
        "id": "wymntDNCZuIM",
        "outputId": "8960a138-c736-4c07-ad94-4677cabe3005"
      },
      "execution_count": 9,
      "outputs": [
        {
          "output_type": "stream",
          "name": "stderr",
          "text": [
            "100%|██████████| 12500/12500 [06:34<00:00, 31.68it/s] \n"
          ]
        },
        {
          "output_type": "stream",
          "name": "stdout",
          "text": [
            "12500\n"
          ]
        }
      ]
    },
    {
      "cell_type": "code",
      "source": [
        "new_data = preprocess_data(path_pos_test)\n",
        "df = pd.DataFrame(new_data, columns=['feature', 'label'])\n",
        "print(len(df))\n",
        "df.to_csv('/content/drive/MyDrive/nlp/preprocessed/pos_test.csv', index=False)"
      ],
      "metadata": {
        "colab": {
          "base_uri": "https://localhost:8080/"
        },
        "id": "BKLKYGL1ZwBq",
        "outputId": "40b3f66c-2ef0-44f3-a96a-a6718721b1a5"
      },
      "execution_count": 10,
      "outputs": [
        {
          "output_type": "stream",
          "name": "stderr",
          "text": [
            "100%|██████████| 12500/12500 [06:16<00:00, 33.23it/s] \n"
          ]
        },
        {
          "output_type": "stream",
          "name": "stdout",
          "text": [
            "12500\n"
          ]
        }
      ]
    },
    {
      "cell_type": "code",
      "execution_count": 11,
      "metadata": {
        "colab": {
          "base_uri": "https://localhost:8080/"
        },
        "id": "FokOVcVas9LC",
        "outputId": "c6d7d0f3-878a-44a2-ff07-7c34d364bf37"
      },
      "outputs": [
        {
          "output_type": "stream",
          "name": "stderr",
          "text": [
            "100%|██████████| 12500/12500 [07:28<00:00, 27.88it/s] \n"
          ]
        },
        {
          "output_type": "stream",
          "name": "stdout",
          "text": [
            "12500\n"
          ]
        }
      ],
      "source": [
        "new_data = preprocess_data(path_neg_test)\n",
        "df = pd.DataFrame(new_data, columns=['feature', 'label'])\n",
        "print(len(df))\n",
        "df.to_csv('/content/drive/MyDrive/nlp/preprocessed/neg_test.csv', index=False)"
      ]
    },
    {
      "cell_type": "code",
      "execution_count": 3,
      "metadata": {
        "id": "wL8h8B5-trCe"
      },
      "outputs": [],
      "source": [
        "pos_train = pd.read_csv('/content/drive/MyDrive/nlp/preprocessed/pos_train.csv')\n",
        "neg_train = pd.read_csv('/content/drive/MyDrive/nlp/preprocessed/neg_train.csv')"
      ]
    },
    {
      "cell_type": "code",
      "execution_count": 4,
      "metadata": {
        "id": "9xh0lhjgrfD6"
      },
      "outputs": [],
      "source": [
        "class CustomDataset(Dataset): # код датасета для сбалансированной подгрузки данных из датафреймов\n",
        "    def __init__(self, mode):\n",
        "        x = 0\n",
        "        y = 0\n",
        "        if mode == 'train': # загрузка 80% данных\n",
        "          x = 0\n",
        "          y = 10000\n",
        "        if mode == 'val': # загрузка 20% данных\n",
        "          x = 10000\n",
        "          y = 12500\n",
        "        if mode == 'test': # загрузка всех данных\n",
        "          x = 0\n",
        "          y = 12500\n",
        "        pos_data = np.array(pos_train)[x:y]\n",
        "        neg_data = np.array(neg_train)[x:y]\n",
        "        self.data = np.concatenate([pos_data, neg_data], axis=0)\n",
        "        idx = np.arange(len(self.data))\n",
        "        np.random.shuffle(idx) # случайный порядок строк матрицы данных\n",
        "        self.data = self.data[idx]\n",
        "\n",
        "    def __len__(self):\n",
        "        return len(self.data)\n",
        "\n",
        "    def __getitem__(self, idx):\n",
        "        row = self.data[idx]\n",
        "        label = row[1]\n",
        "        feature = ast.literal_eval(row[0]) # создание списка из строки датафрейма\n",
        "        return torch.tensor(feature), label"
      ]
    },
    {
      "cell_type": "code",
      "execution_count": 20,
      "metadata": {
        "id": "KyU0oCWt4BRI"
      },
      "outputs": [],
      "source": [
        "class SimpleModel(nn.Module): # код модели для обучения\n",
        "    def __init__(self):\n",
        "        super(SimpleModel, self).__init__()\n",
        "        self.embedding = nn.Embedding(10002, 200)\n",
        "        self.norm1 = nn.BatchNorm1d(200)\n",
        "        self.lstm = nn.LSTM(200, 512, 2, dropout=0.2, batch_first=True)\n",
        "        self.norm2 = nn.BatchNorm1d(512)\n",
        "        self.dropout1 = nn.Dropout(0.2)\n",
        "        self.fc1 = nn.Linear(512, 256)\n",
        "        self.norm3 = nn.BatchNorm1d(256)\n",
        "        self.fc2 = nn.Linear(256, 128)\n",
        "        self.norm4 = nn.BatchNorm1d(128)\n",
        "        self.dropout2 = nn.Dropout(0.2)\n",
        "        self.fc3 = nn.Linear(128, 1)\n",
        "        self.sigmoid = nn.Sigmoid()\n",
        "\n",
        "    def forward(self, x):\n",
        "        x = x.long()\n",
        "        x = self.norm1(self.embedding(x))\n",
        "        x =  self.lstm(x)[0][:, -1, :]\n",
        "        x = self.dropout1(self.norm2(x))\n",
        "        x = F.relu(self.norm3(self.fc1(x)))\n",
        "        x = F.relu(self.norm4(self.fc2(x)))\n",
        "        x = self.dropout2(x)\n",
        "        x = self.fc3(x)\n",
        "        x = self.sigmoid(x)\n",
        "        return x"
      ]
    },
    {
      "cell_type": "code",
      "source": [
        "device = torch.device('cuda')"
      ],
      "metadata": {
        "id": "fB6Qw2PiHSBi"
      },
      "execution_count": 33,
      "outputs": []
    },
    {
      "cell_type": "code",
      "execution_count": 34,
      "metadata": {
        "colab": {
          "base_uri": "https://localhost:8080/"
        },
        "id": "c7uDWc5RSy54",
        "outputId": "393eb84b-f43e-4c0e-ce61-2ce8c899f488"
      },
      "outputs": [
        {
          "output_type": "execute_result",
          "data": {
            "text/plain": [
              "SimpleModel(\n",
              "  (embedding): Embedding(10002, 200)\n",
              "  (norm1): BatchNorm1d(200, eps=1e-05, momentum=0.1, affine=True, track_running_stats=True)\n",
              "  (lstm): LSTM(200, 512, num_layers=2, batch_first=True, dropout=0.2)\n",
              "  (norm2): BatchNorm1d(512, eps=1e-05, momentum=0.1, affine=True, track_running_stats=True)\n",
              "  (dropout1): Dropout(p=0.2, inplace=False)\n",
              "  (fc1): Linear(in_features=512, out_features=256, bias=True)\n",
              "  (norm3): BatchNorm1d(256, eps=1e-05, momentum=0.1, affine=True, track_running_stats=True)\n",
              "  (fc2): Linear(in_features=256, out_features=128, bias=True)\n",
              "  (norm4): BatchNorm1d(128, eps=1e-05, momentum=0.1, affine=True, track_running_stats=True)\n",
              "  (dropout2): Dropout(p=0.2, inplace=False)\n",
              "  (fc3): Linear(in_features=128, out_features=1, bias=True)\n",
              "  (sigmoid): Sigmoid()\n",
              ")"
            ]
          },
          "metadata": {},
          "execution_count": 34
        }
      ],
      "source": [
        "def weights_init(m, mean=0.0, std=0.02):  # инициализация весов\n",
        "  if isinstance(m, nn.ConvTranspose2d) or isinstance(m, nn.Conv2d):\n",
        "    nn.init.normal_(m.weight.data, mean, std)\n",
        "\n",
        "model = SimpleModel().to(device)\n",
        "model.apply(weights_init)"
      ]
    },
    {
      "cell_type": "markdown",
      "source": [
        "Обучим модель и сохраним модель с наилучшим accuracy на валидации."
      ],
      "metadata": {
        "id": "kbdU0ZJBKcOw"
      }
    },
    {
      "cell_type": "code",
      "execution_count": 35,
      "metadata": {
        "id": "eButBeYf4S8g"
      },
      "outputs": [],
      "source": [
        "lr = 0.001\n",
        "BCE_loss = nn.BCELoss()\n",
        "optim = Adam(model.parameters(), lr=lr)\n",
        "epochs = 10\n",
        "batch_size = 128\n",
        "\n",
        "train_dataset = CustomDataset('train')\n",
        "train_dataloader = DataLoader(train_dataset, batch_size=batch_size, shuffle=True)\n",
        "\n",
        "val_dataset = CustomDataset('val')\n",
        "val_dataloader = DataLoader(val_dataset, batch_size=batch_size, shuffle=False)"
      ]
    },
    {
      "cell_type": "code",
      "execution_count": 36,
      "metadata": {
        "colab": {
          "base_uri": "https://localhost:8080/"
        },
        "id": "6IcqmCInRWlf",
        "outputId": "02cbf9c2-af70-421d-bb89-2290a3b184ab"
      },
      "outputs": [
        {
          "output_type": "stream",
          "name": "stdout",
          "text": [
            "Epoch:  0\n"
          ]
        },
        {
          "output_type": "stream",
          "name": "stderr",
          "text": [
            "100%|██████████| 157/157 [00:36<00:00,  4.28it/s]\n"
          ]
        },
        {
          "output_type": "stream",
          "name": "stdout",
          "text": [
            "Train loss:  0.6995643449437087\n",
            "Train accuracy:  0.5033339968152867\n"
          ]
        },
        {
          "output_type": "stream",
          "name": "stderr",
          "text": [
            "100%|██████████| 40/40 [00:03<00:00, 10.74it/s]\n"
          ]
        },
        {
          "output_type": "stream",
          "name": "stdout",
          "text": [
            "Validation loss:  0.6945660188794136\n",
            "Validation accuracy:  0.5037109375\n",
            "Epoch:  1\n"
          ]
        },
        {
          "output_type": "stream",
          "name": "stderr",
          "text": [
            "100%|██████████| 157/157 [00:36<00:00,  4.29it/s]\n"
          ]
        },
        {
          "output_type": "stream",
          "name": "stdout",
          "text": [
            "Train loss:  0.6939336744843015\n",
            "Train accuracy:  0.5108479299363057\n"
          ]
        },
        {
          "output_type": "stream",
          "name": "stderr",
          "text": [
            "100%|██████████| 40/40 [00:04<00:00,  9.69it/s]\n"
          ]
        },
        {
          "output_type": "stream",
          "name": "stdout",
          "text": [
            "Validation loss:  0.7043877050280571\n",
            "Validation accuracy:  0.5\n",
            "Epoch:  2\n"
          ]
        },
        {
          "output_type": "stream",
          "name": "stderr",
          "text": [
            "100%|██████████| 157/157 [00:36<00:00,  4.30it/s]\n"
          ]
        },
        {
          "output_type": "stream",
          "name": "stdout",
          "text": [
            "Train loss:  0.6877519587042985\n",
            "Train accuracy:  0.533140923566879\n"
          ]
        },
        {
          "output_type": "stream",
          "name": "stderr",
          "text": [
            "100%|██████████| 40/40 [00:03<00:00, 10.82it/s]\n"
          ]
        },
        {
          "output_type": "stream",
          "name": "stdout",
          "text": [
            "Validation loss:  0.6935401812195778\n",
            "Validation accuracy:  0.5\n",
            "Epoch:  3\n"
          ]
        },
        {
          "output_type": "stream",
          "name": "stderr",
          "text": [
            "100%|██████████| 157/157 [00:36<00:00,  4.31it/s]\n"
          ]
        },
        {
          "output_type": "stream",
          "name": "stdout",
          "text": [
            "Train loss:  0.6026673865546087\n",
            "Train accuracy:  0.6416699840764332\n"
          ]
        },
        {
          "output_type": "stream",
          "name": "stderr",
          "text": [
            "100%|██████████| 40/40 [00:03<00:00, 10.76it/s]\n"
          ]
        },
        {
          "output_type": "stream",
          "name": "stdout",
          "text": [
            "Validation loss:  1.2342676550149918\n",
            "Validation accuracy:  0.5421875\n",
            "Epoch:  4\n"
          ]
        },
        {
          "output_type": "stream",
          "name": "stderr",
          "text": [
            "100%|██████████| 157/157 [00:36<00:00,  4.32it/s]\n"
          ]
        },
        {
          "output_type": "stream",
          "name": "stdout",
          "text": [
            "Train loss:  0.34959401190280914\n",
            "Train accuracy:  0.8497213375796179\n"
          ]
        },
        {
          "output_type": "stream",
          "name": "stderr",
          "text": [
            "100%|██████████| 40/40 [00:03<00:00, 10.77it/s]\n"
          ]
        },
        {
          "output_type": "stream",
          "name": "stdout",
          "text": [
            "Validation loss:  0.5377580180764199\n",
            "Validation accuracy:  0.756640625\n",
            "Epoch:  5\n"
          ]
        },
        {
          "output_type": "stream",
          "name": "stderr",
          "text": [
            "100%|██████████| 157/157 [00:36<00:00,  4.33it/s]\n"
          ]
        },
        {
          "output_type": "stream",
          "name": "stdout",
          "text": [
            "Train loss:  0.2466657009853679\n",
            "Train accuracy:  0.9017217356687898\n"
          ]
        },
        {
          "output_type": "stream",
          "name": "stderr",
          "text": [
            "100%|██████████| 40/40 [00:03<00:00, 10.84it/s]\n"
          ]
        },
        {
          "output_type": "stream",
          "name": "stdout",
          "text": [
            "Validation loss:  0.3779733099043369\n",
            "Validation accuracy:  0.828515625\n",
            "Epoch:  6\n"
          ]
        },
        {
          "output_type": "stream",
          "name": "stderr",
          "text": [
            "100%|██████████| 157/157 [00:36<00:00,  4.33it/s]\n"
          ]
        },
        {
          "output_type": "stream",
          "name": "stdout",
          "text": [
            "Train loss:  0.1776741423234818\n",
            "Train accuracy:  0.9339171974522293\n"
          ]
        },
        {
          "output_type": "stream",
          "name": "stderr",
          "text": [
            "100%|██████████| 40/40 [00:04<00:00, 10.00it/s]\n"
          ]
        },
        {
          "output_type": "stream",
          "name": "stdout",
          "text": [
            "Validation loss:  0.4133706144988537\n",
            "Validation accuracy:  0.841015625\n",
            "Epoch:  7\n"
          ]
        },
        {
          "output_type": "stream",
          "name": "stderr",
          "text": [
            "100%|██████████| 157/157 [00:36<00:00,  4.34it/s]\n"
          ]
        },
        {
          "output_type": "stream",
          "name": "stdout",
          "text": [
            "Train loss:  0.13057980285423576\n",
            "Train accuracy:  0.955015923566879\n"
          ]
        },
        {
          "output_type": "stream",
          "name": "stderr",
          "text": [
            "100%|██████████| 40/40 [00:04<00:00,  9.52it/s]\n"
          ]
        },
        {
          "output_type": "stream",
          "name": "stdout",
          "text": [
            "Validation loss:  0.6006807878613472\n",
            "Validation accuracy:  0.806640625\n",
            "Epoch:  8\n"
          ]
        },
        {
          "output_type": "stream",
          "name": "stderr",
          "text": [
            "100%|██████████| 157/157 [00:36<00:00,  4.36it/s]\n"
          ]
        },
        {
          "output_type": "stream",
          "name": "stdout",
          "text": [
            "Train loss:  0.08788267785244307\n",
            "Train accuracy:  0.9710887738853503\n"
          ]
        },
        {
          "output_type": "stream",
          "name": "stderr",
          "text": [
            "100%|██████████| 40/40 [00:04<00:00,  9.06it/s]\n"
          ]
        },
        {
          "output_type": "stream",
          "name": "stdout",
          "text": [
            "Validation loss:  0.606652881577611\n",
            "Validation accuracy:  0.823828125\n",
            "Epoch:  9\n"
          ]
        },
        {
          "output_type": "stream",
          "name": "stderr",
          "text": [
            "100%|██████████| 157/157 [00:35<00:00,  4.39it/s]\n"
          ]
        },
        {
          "output_type": "stream",
          "name": "stdout",
          "text": [
            "Train loss:  0.06229005305535475\n",
            "Train accuracy:  0.9804438694267515\n"
          ]
        },
        {
          "output_type": "stream",
          "name": "stderr",
          "text": [
            "100%|██████████| 40/40 [00:04<00:00,  8.42it/s]"
          ]
        },
        {
          "output_type": "stream",
          "name": "stdout",
          "text": [
            "Validation loss:  0.6688642531633378\n",
            "Validation accuracy:  0.8265625\n"
          ]
        },
        {
          "output_type": "stream",
          "name": "stderr",
          "text": [
            "\n"
          ]
        }
      ],
      "source": [
        "train_loss_history = []\n",
        "train_acc_history = []\n",
        "val_loss_history = []\n",
        "val_acc_history = []\n",
        "\n",
        "best_loss = 1000\n",
        "best_epoch = 0\n",
        "\n",
        "for epoch in range(epochs):\n",
        "    print('Epoch: ', epoch)\n",
        "    model.train()\n",
        "\n",
        "    train_loss = 0\n",
        "    train_acc = 0\n",
        "\n",
        "    for input, label in tqdm(train_dataloader):\n",
        "        input, label = input.to(device), label.to(device)\n",
        "        optim.zero_grad()\n",
        "        out = model(input)\n",
        "        pred = torch.tensor([1 if i == True else 0 for i in out > 0.5]).to(device)\n",
        "        tp = ((label.float() == 1)&(pred == 1)).sum()\n",
        "        tn = ((label.float() == 0)&(pred == 0)).sum()\n",
        "        fp = ((label.float() == 1)&(pred == 0)).sum()\n",
        "        fn = ((label.float() == 0)&(pred == 1)).sum()\n",
        "        acc = (tp + tn) / (tp + tn + fn + fp)\n",
        "        train_acc += acc.item()\n",
        "        loss = BCE_loss(out.squeeze(), label.float())\n",
        "        train_loss += loss.item()\n",
        "        loss.backward()\n",
        "        nn.utils.clip_grad_norm_(model.parameters(), 1)\n",
        "        optim.step()\n",
        "    print('Train loss: ', train_loss / len(train_dataloader))\n",
        "    train_loss_history.append(train_loss / len(train_dataloader))\n",
        "    print('Train accuracy: ', train_acc / len(train_dataloader))\n",
        "    train_acc_history.append(train_acc / len(train_dataloader))\n",
        "\n",
        "    model.eval()\n",
        "\n",
        "    val_loss = 0\n",
        "    val_acc = 0\n",
        "\n",
        "    with torch.no_grad():\n",
        "        for input, label in tqdm(val_dataloader):\n",
        "            input, label = input.to(device), label.to(device)\n",
        "            out = model(input)\n",
        "            pred = torch.tensor([1 if i == True else 0 for i in out > 0.5]).to(device)\n",
        "            tp = ((label.float() == 1)&(pred == 1)).sum()\n",
        "            tn = ((label.float() == 0)&(pred == 0)).sum()\n",
        "            fp = ((label.float() == 1)&(pred == 0)).sum()\n",
        "            fn = ((label.float() == 0)&(pred == 1)).sum()\n",
        "            acc = (tp + tn) / (tp + tn + fn + fp)\n",
        "            val_acc += acc.item()\n",
        "            loss = BCE_loss(out.squeeze(), label.float())\n",
        "            val_loss += loss.item()\n",
        "        print('Validation loss: ', val_loss / len(val_dataloader))\n",
        "        val_loss_history.append(val_loss / len(val_dataloader))\n",
        "        if ((val_loss / len(val_dataloader)) < best_loss):\n",
        "          torch.save(model.state_dict(), '/content/drive/MyDrive/nlp/trained_model.pth')\n",
        "          best_epoch = epoch\n",
        "          best_loss = (val_loss / len(val_dataloader))\n",
        "        print('Validation accuracy: ', val_acc / len(val_dataloader))\n",
        "        val_acc_history.append(val_acc / len(val_dataloader))"
      ]
    },
    {
      "cell_type": "code",
      "source": [
        "print('Best epoch: ', best_epoch)"
      ],
      "metadata": {
        "id": "dtHpifH_qYMB",
        "outputId": "f0393138-162d-4620-e170-b6f22c4ecc21",
        "colab": {
          "base_uri": "https://localhost:8080/"
        }
      },
      "execution_count": 37,
      "outputs": [
        {
          "output_type": "stream",
          "name": "stdout",
          "text": [
            "Best epoch:  5\n"
          ]
        }
      ]
    },
    {
      "cell_type": "code",
      "source": [
        "x = np.arange(10)\n",
        "plt.plot(x, train_loss_history, '-o', label='train')\n",
        "plt.plot(x, val_loss_history, '-o', label='val')\n",
        "plt.legend()\n",
        "plt.grid()\n",
        "plt.xlabel('Epoch')\n",
        "plt.ylabel('BCE_loss')\n",
        "plt.show()"
      ],
      "metadata": {
        "id": "uQHSiBAdjaYq",
        "outputId": "69a3dbd7-a2fb-46e3-80da-3e81ee41e604",
        "colab": {
          "base_uri": "https://localhost:8080/",
          "height": 449
        }
      },
      "execution_count": 40,
      "outputs": [
        {
          "output_type": "display_data",
          "data": {
            "text/plain": [
              "<Figure size 640x480 with 1 Axes>"
            ],
            "image/png": "[encoded data removed]"
          },
          "metadata": {}
        }
      ]
    },
    {
      "cell_type": "code",
      "source": [
        "x = np.arange(10)\n",
        "plt.plot(x, train_acc_history, '-o', label='train')\n",
        "plt.plot(x, val_acc_history, '-o', label='val')\n",
        "plt.legend()\n",
        "plt.grid()\n",
        "plt.xlabel('Epoch')\n",
        "plt.ylabel('Accuracy')\n",
        "plt.show()"
      ],
      "metadata": {
        "id": "Wf4CTHqEj3ZW",
        "outputId": "ea317973-a891-42b7-d1cc-97857f5d30c1",
        "colab": {
          "base_uri": "https://localhost:8080/",
          "height": 452
        }
      },
      "execution_count": 41,
      "outputs": [
        {
          "output_type": "display_data",
          "data": {
            "text/plain": [
              "<Figure size 640x480 with 1 Axes>"
            ],
            "image/png": "[encoded data removed]"
          },
          "metadata": {}
        }
      ]
    },
    {
      "cell_type": "markdown",
      "source": [
        "Проверим работу модели на тестовых данных"
      ],
      "metadata": {
        "id": "V1um-ZrIHuTo"
      }
    },
    {
      "cell_type": "code",
      "execution_count": 43,
      "metadata": {
        "id": "7RxWgQ1UuRQt",
        "colab": {
          "base_uri": "https://localhost:8080/"
        },
        "outputId": "d43c12b5-b326-4d43-d352-a0cb7f217a47"
      },
      "outputs": [
        {
          "output_type": "execute_result",
          "data": {
            "text/plain": [
              "SimpleModel(\n",
              "  (embedding): Embedding(10002, 200)\n",
              "  (norm1): BatchNorm1d(200, eps=1e-05, momentum=0.1, affine=True, track_running_stats=True)\n",
              "  (lstm): LSTM(200, 512, num_layers=2, batch_first=True, dropout=0.2)\n",
              "  (norm2): BatchNorm1d(512, eps=1e-05, momentum=0.1, affine=True, track_running_stats=True)\n",
              "  (dropout1): Dropout(p=0.2, inplace=False)\n",
              "  (fc1): Linear(in_features=512, out_features=256, bias=True)\n",
              "  (norm3): BatchNorm1d(256, eps=1e-05, momentum=0.1, affine=True, track_running_stats=True)\n",
              "  (fc2): Linear(in_features=256, out_features=128, bias=True)\n",
              "  (norm4): BatchNorm1d(128, eps=1e-05, momentum=0.1, affine=True, track_running_stats=True)\n",
              "  (dropout2): Dropout(p=0.2, inplace=False)\n",
              "  (fc3): Linear(in_features=128, out_features=1, bias=True)\n",
              "  (sigmoid): Sigmoid()\n",
              ")"
            ]
          },
          "metadata": {},
          "execution_count": 43
        }
      ],
      "source": [
        "model = SimpleModel().to(device)\n",
        "model.load_state_dict(torch.load('/content/drive/MyDrive/nlp/trained_model.pth'))\n",
        "model.eval()"
      ]
    },
    {
      "cell_type": "code",
      "execution_count": 44,
      "metadata": {
        "id": "djdMA47D4CHj"
      },
      "outputs": [],
      "source": [
        "pos_test = pd.read_csv('/content/drive/MyDrive/nlp/preprocessed/pos_test.csv')\n",
        "neg_test = pd.read_csv('/content/drive/MyDrive/nlp/preprocessed/neg_test.csv')"
      ]
    },
    {
      "cell_type": "code",
      "execution_count": 48,
      "metadata": {
        "id": "7OhFlTgq4CKd"
      },
      "outputs": [],
      "source": [
        "test_dataset = CustomDataset('test')\n",
        "test_dataloader = DataLoader(test_dataset, batch_size=128, shuffle=False)"
      ]
    },
    {
      "cell_type": "code",
      "execution_count": 50,
      "metadata": {
        "id": "fuvIgdQt3ZP8",
        "colab": {
          "base_uri": "https://localhost:8080/"
        },
        "outputId": "6746abb6-d544-4c86-dba8-da0f6197349e"
      },
      "outputs": [
        {
          "output_type": "stream",
          "name": "stderr",
          "text": [
            "100%|██████████| 196/196 [00:22<00:00,  8.60it/s]"
          ]
        },
        {
          "output_type": "stream",
          "name": "stdout",
          "text": [
            "\n",
            "Test accuracy:  0.9192602041424537\n",
            "Test precision:  0.8978852386377296\n",
            "Test recall:  0.9379380430494036\n",
            "Test F1:  0.9168814323386367\n"
          ]
        },
        {
          "output_type": "stream",
          "name": "stderr",
          "text": [
            "\n"
          ]
        }
      ],
      "source": [
        "test_acc = 0\n",
        "test_loss = 0\n",
        "test_precision = 0\n",
        "test_recall = 0\n",
        "test_f1 = 0\n",
        "with torch.no_grad():\n",
        "  for input, label in tqdm(test_dataloader):\n",
        "    input, label = input.to(device), label.to(device)\n",
        "    out = model(input)\n",
        "    pred = torch.tensor([1 if i == True else 0 for i in out > 0.5]).to(device)\n",
        "    tp = ((label.float() == 1)&(pred == 1)).sum()\n",
        "    tn = ((label.float() == 0)&(pred == 0)).sum()\n",
        "    fp = ((label.float() == 1)&(pred == 0)).sum()\n",
        "    fn = ((label.float() == 0)&(pred == 1)).sum()\n",
        "    acc = (tp + tn) / (tp + tn + fn + fp)\n",
        "    precision = tp / (tp + fp)\n",
        "    recall = tp / (tp + fn)\n",
        "    f1 = 2 * precision * recall / (precision + recall)\n",
        "    test_acc += acc.item()\n",
        "    loss = BCE_loss(out.squeeze(), label.float())\n",
        "    test_loss += loss.item()\n",
        "    test_precision += precision.item()\n",
        "    test_recall += recall.item()\n",
        "    test_f1 += f1.item()\n",
        "print()\n",
        "print('Test accuracy: ', test_acc / len(test_dataloader))\n",
        "print('Test precision: ', test_precision / len(test_dataloader))\n",
        "print('Test recall: ', test_recall / len(test_dataloader))\n",
        "print('Test F1: ', test_f1 / len(test_dataloader))"
      ]
    },
    {
      "cell_type": "code",
      "execution_count": null,
      "metadata": {
        "id": "xYE3OcwO0g5v"
      },
      "outputs": [],
      "source": []
    }
  ],
  "metadata": {
    "colab": {
      "provenance": [],
      "gpuType": "T4"
    },
    "kernelspec": {
      "display_name": "Python 3",
      "name": "python3"
    },
    "language_info": {
      "name": "python"
    },
    "accelerator": "GPU"
  },
  "nbformat": 4,
  "nbformat_minor": 0
}